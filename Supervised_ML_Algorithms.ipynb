{
  "nbformat": 4,
  "nbformat_minor": 0,
  "metadata": {
    "colab": {
      "name": "Supervised ML Algorithms.ipynb",
      "provenance": [],
      "authorship_tag": "ABX9TyO3R+yv2SsKZ/eg6NZYW1vW",
      "include_colab_link": true
    },
    "kernelspec": {
      "name": "python3",
      "display_name": "Python 3"
    },
    "language_info": {
      "name": "python"
    }
  },
  "cells": [
    {
      "cell_type": "markdown",
      "metadata": {
        "id": "view-in-github",
        "colab_type": "text"
      },
      "source": [
        "<a href=\"https://colab.research.google.com/github/runjhunratawal/Machine-Learning-with-Python-Practice/blob/main/Supervised_ML_Algorithms.ipynb\" target=\"_parent\"><img src=\"https://colab.research.google.com/assets/colab-badge.svg\" alt=\"Open In Colab\"/></a>"
      ]
    },
    {
      "cell_type": "markdown",
      "source": [
        "Date - 01.03.2022\n",
        "\n",
        "Time - 2.30pm IST\n",
        "\n",
        "Topic - Supervised Machine Learning Algorithms\n",
        "\n",
        "# K-Nearest Neighbours\n",
        "\n"
      ],
      "metadata": {
        "id": "82BxHVGYs9QE"
      }
    },
    {
      "cell_type": "code",
      "source": [
        "# !pip install mglearn\n"
      ],
      "metadata": {
        "colab": {
          "base_uri": "https://localhost:8080/"
        },
        "id": "1YIQcHvXtq0z",
        "outputId": "4e256681-07ba-4a7e-cdf7-a6680785d77e"
      },
      "execution_count": 3,
      "outputs": [
        {
          "output_type": "stream",
          "name": "stdout",
          "text": [
            "Collecting mglearn\n",
            "  Downloading mglearn-0.1.9.tar.gz (540 kB)\n",
            "\u001b[?25l\r\u001b[K     |▋                               | 10 kB 18.3 MB/s eta 0:00:01\r\u001b[K     |█▏                              | 20 kB 24.4 MB/s eta 0:00:01\r\u001b[K     |█▉                              | 30 kB 29.2 MB/s eta 0:00:01\r\u001b[K     |██▍                             | 40 kB 27.4 MB/s eta 0:00:01\r\u001b[K     |███                             | 51 kB 20.5 MB/s eta 0:00:01\r\u001b[K     |███▋                            | 61 kB 23.1 MB/s eta 0:00:01\r\u001b[K     |████▎                           | 71 kB 24.6 MB/s eta 0:00:01\r\u001b[K     |████▉                           | 81 kB 25.2 MB/s eta 0:00:01\r\u001b[K     |█████▌                          | 92 kB 27.1 MB/s eta 0:00:01\r\u001b[K     |██████                          | 102 kB 28.7 MB/s eta 0:00:01\r\u001b[K     |██████▊                         | 112 kB 28.7 MB/s eta 0:00:01\r\u001b[K     |███████▎                        | 122 kB 28.7 MB/s eta 0:00:01\r\u001b[K     |███████▉                        | 133 kB 28.7 MB/s eta 0:00:01\r\u001b[K     |████████▌                       | 143 kB 28.7 MB/s eta 0:00:01\r\u001b[K     |█████████                       | 153 kB 28.7 MB/s eta 0:00:01\r\u001b[K     |█████████▊                      | 163 kB 28.7 MB/s eta 0:00:01\r\u001b[K     |██████████▎                     | 174 kB 28.7 MB/s eta 0:00:01\r\u001b[K     |███████████                     | 184 kB 28.7 MB/s eta 0:00:01\r\u001b[K     |███████████▌                    | 194 kB 28.7 MB/s eta 0:00:01\r\u001b[K     |████████████▏                   | 204 kB 28.7 MB/s eta 0:00:01\r\u001b[K     |████████████▊                   | 215 kB 28.7 MB/s eta 0:00:01\r\u001b[K     |█████████████▍                  | 225 kB 28.7 MB/s eta 0:00:01\r\u001b[K     |██████████████                  | 235 kB 28.7 MB/s eta 0:00:01\r\u001b[K     |██████████████▋                 | 245 kB 28.7 MB/s eta 0:00:01\r\u001b[K     |███████████████▏                | 256 kB 28.7 MB/s eta 0:00:01\r\u001b[K     |███████████████▊                | 266 kB 28.7 MB/s eta 0:00:01\r\u001b[K     |████████████████▍               | 276 kB 28.7 MB/s eta 0:00:01\r\u001b[K     |█████████████████               | 286 kB 28.7 MB/s eta 0:00:01\r\u001b[K     |█████████████████▋              | 296 kB 28.7 MB/s eta 0:00:01\r\u001b[K     |██████████████████▏             | 307 kB 28.7 MB/s eta 0:00:01\r\u001b[K     |██████████████████▉             | 317 kB 28.7 MB/s eta 0:00:01\r\u001b[K     |███████████████████▍            | 327 kB 28.7 MB/s eta 0:00:01\r\u001b[K     |████████████████████            | 337 kB 28.7 MB/s eta 0:00:01\r\u001b[K     |████████████████████▋           | 348 kB 28.7 MB/s eta 0:00:01\r\u001b[K     |█████████████████████▎          | 358 kB 28.7 MB/s eta 0:00:01\r\u001b[K     |█████████████████████▉          | 368 kB 28.7 MB/s eta 0:00:01\r\u001b[K     |██████████████████████▌         | 378 kB 28.7 MB/s eta 0:00:01\r\u001b[K     |███████████████████████         | 389 kB 28.7 MB/s eta 0:00:01\r\u001b[K     |███████████████████████▋        | 399 kB 28.7 MB/s eta 0:00:01\r\u001b[K     |████████████████████████▎       | 409 kB 28.7 MB/s eta 0:00:01\r\u001b[K     |████████████████████████▉       | 419 kB 28.7 MB/s eta 0:00:01\r\u001b[K     |█████████████████████████▌      | 430 kB 28.7 MB/s eta 0:00:01\r\u001b[K     |██████████████████████████      | 440 kB 28.7 MB/s eta 0:00:01\r\u001b[K     |██████████████████████████▊     | 450 kB 28.7 MB/s eta 0:00:01\r\u001b[K     |███████████████████████████▎    | 460 kB 28.7 MB/s eta 0:00:01\r\u001b[K     |████████████████████████████    | 471 kB 28.7 MB/s eta 0:00:01\r\u001b[K     |████████████████████████████▌   | 481 kB 28.7 MB/s eta 0:00:01\r\u001b[K     |█████████████████████████████▏  | 491 kB 28.7 MB/s eta 0:00:01\r\u001b[K     |█████████████████████████████▊  | 501 kB 28.7 MB/s eta 0:00:01\r\u001b[K     |██████████████████████████████▍ | 512 kB 28.7 MB/s eta 0:00:01\r\u001b[K     |███████████████████████████████ | 522 kB 28.7 MB/s eta 0:00:01\r\u001b[K     |███████████████████████████████▌| 532 kB 28.7 MB/s eta 0:00:01\r\u001b[K     |████████████████████████████████| 540 kB 28.7 MB/s \n",
            "\u001b[?25hRequirement already satisfied: numpy in /usr/local/lib/python3.7/dist-packages (from mglearn) (1.21.5)\n",
            "Requirement already satisfied: matplotlib in /usr/local/lib/python3.7/dist-packages (from mglearn) (3.2.2)\n",
            "Requirement already satisfied: scikit-learn in /usr/local/lib/python3.7/dist-packages (from mglearn) (1.0.2)\n",
            "Requirement already satisfied: pandas in /usr/local/lib/python3.7/dist-packages (from mglearn) (1.3.5)\n",
            "Requirement already satisfied: pillow in /usr/local/lib/python3.7/dist-packages (from mglearn) (7.1.2)\n",
            "Requirement already satisfied: cycler in /usr/local/lib/python3.7/dist-packages (from mglearn) (0.11.0)\n",
            "Requirement already satisfied: imageio in /usr/local/lib/python3.7/dist-packages (from mglearn) (2.4.1)\n",
            "Requirement already satisfied: joblib in /usr/local/lib/python3.7/dist-packages (from mglearn) (1.1.0)\n",
            "Requirement already satisfied: python-dateutil>=2.1 in /usr/local/lib/python3.7/dist-packages (from matplotlib->mglearn) (2.8.2)\n",
            "Requirement already satisfied: kiwisolver>=1.0.1 in /usr/local/lib/python3.7/dist-packages (from matplotlib->mglearn) (1.3.2)\n",
            "Requirement already satisfied: pyparsing!=2.0.4,!=2.1.2,!=2.1.6,>=2.0.1 in /usr/local/lib/python3.7/dist-packages (from matplotlib->mglearn) (3.0.7)\n",
            "Requirement already satisfied: six>=1.5 in /usr/local/lib/python3.7/dist-packages (from python-dateutil>=2.1->matplotlib->mglearn) (1.15.0)\n",
            "Requirement already satisfied: pytz>=2017.3 in /usr/local/lib/python3.7/dist-packages (from pandas->mglearn) (2018.9)\n",
            "Requirement already satisfied: scipy>=1.1.0 in /usr/local/lib/python3.7/dist-packages (from scikit-learn->mglearn) (1.4.1)\n",
            "Requirement already satisfied: threadpoolctl>=2.0.0 in /usr/local/lib/python3.7/dist-packages (from scikit-learn->mglearn) (3.1.0)\n",
            "Building wheels for collected packages: mglearn\n",
            "  Building wheel for mglearn (setup.py) ... \u001b[?25l\u001b[?25hdone\n",
            "  Created wheel for mglearn: filename=mglearn-0.1.9-py2.py3-none-any.whl size=582639 sha256=c064d541ec0c898c549b25bbbe288d5d6cc22eb4163e4d097e7d91a8fd4b868c\n",
            "  Stored in directory: /root/.cache/pip/wheels/f1/17/e1/1720d6dcd70187b6b6c3750cb3508798f2b1d57c9d3214b08b\n",
            "Successfully built mglearn\n",
            "Installing collected packages: mglearn\n",
            "Successfully installed mglearn-0.1.9\n"
          ]
        }
      ]
    },
    {
      "cell_type": "code",
      "source": [
        "import mglearn\n",
        "import matplotlib.pyplot as plt\n",
        "import warnings\n",
        "warnings.filterwarnings('ignore')"
      ],
      "metadata": {
        "id": "Q5KfaJ7ItekL"
      },
      "execution_count": 8,
      "outputs": []
    },
    {
      "cell_type": "code",
      "execution_count": 9,
      "metadata": {
        "colab": {
          "base_uri": "https://localhost:8080/",
          "height": 296
        },
        "id": "t5P5NxIFrEwA",
        "outputId": "976d892b-13c0-4c69-ce5b-8ea3ce1a7723"
      },
      "outputs": [
        {
          "output_type": "stream",
          "name": "stdout",
          "text": [
            "X.shape: (26, 2)\n"
          ]
        },
        {
          "output_type": "display_data",
          "data": {
            "image/png": "[encoded data removed]",
            "text/plain": [
              "<Figure size 432x288 with 1 Axes>"
            ]
          },
          "metadata": {
            "needs_background": "light"
          }
        }
      ],
      "source": [
        "x,y = mglearn.datasets.make_forge()\n",
        "mglearn.discrete_scatter(x[:,0],x[:,1],y)\n",
        "\n",
        "plt.legend([\"Class 0\",\"Class 1\"],loc=4)\n",
        "plt.xlabel(\"First Feature\")\n",
        "plt.ylabel(\"Second Feature\")\n",
        "\n",
        "print(\"X.shape: {}\".format(x.shape))"
      ]
    },
    {
      "cell_type": "code",
      "source": [
        ""
      ],
      "metadata": {
        "id": "2tJ5x2R1tdNk"
      },
      "execution_count": null,
      "outputs": []
    }
  ]
}